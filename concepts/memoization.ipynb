{
  "nbformat": 4,
  "nbformat_minor": 0,
  "metadata": {
    "colab": {
      "name": "memoization.ipynb",
      "provenance": [],
      "collapsed_sections": []
    },
    "kernelspec": {
      "name": "python3",
      "display_name": "Python 3"
    }
  },
  "cells": [
    {
      "cell_type": "code",
      "metadata": {
        "id": "4mTv9Btys8qm"
      },
      "source": [
        "#find first n fibanacci numbers\r\n",
        "# fibanacci numbers : 1, 1, 2, 3,...\r\n",
        "\r\n",
        "# Using memoization explicitly\r\n",
        "\r\n",
        "fibonacci_cache = {}\r\n",
        "\r\n",
        "def fibonacci(n):\r\n",
        "  # If we have cached the value, then return it\r\n",
        "  if n in fibonacci_cache:\r\n",
        "    return fibonacci_cache[n]\r\n",
        "\r\n",
        "  #Compute the Nth term\r\n",
        "  if n==1: value = 1\r\n",
        "  elif n==2: value =1\r\n",
        "  elif n>2: value = fibonacci(n-1) + fibonacci(n-2)\r\n",
        "\r\n",
        "  #Cache the value and return it\r\n",
        "  fibonacci_cache[n] = value\r\n",
        "  return value\r\n",
        "\r\n",
        "for n in range(1,1001):\r\n",
        "  print(n,\":\",fibonacci(n))\r\n"
      ],
      "execution_count": null,
      "outputs": []
    },
    {
      "cell_type": "code",
      "metadata": {
        "id": "SCM-C78kuQSK"
      },
      "source": [
        "#Memoization using functools\r\n",
        "from functools import lru_cache\r\n",
        "\r\n",
        "@lru_cache(maxsize = 1000)\r\n",
        "def fibonacci(n):\r\n",
        "  if n==1: return 1\r\n",
        "  elif n==2 :return  1\r\n",
        "  elif n>2: return fibonacci(n-1) + fibonacci(n-2)\r\n",
        "\r\n",
        "for n in range(1,501):\r\n",
        "  print(n,\":\",fibonacci(n))"
      ],
      "execution_count": null,
      "outputs": []
    },
    {
      "cell_type": "code",
      "metadata": {
        "id": "XiRJp3XDuo8J"
      },
      "source": [
        ""
      ],
      "execution_count": null,
      "outputs": []
    }
  ]
}